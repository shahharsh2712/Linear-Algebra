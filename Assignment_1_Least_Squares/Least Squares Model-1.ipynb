{
 "cells": [
  {
   "cell_type": "markdown",
   "metadata": {},
   "source": [
    "# 1.Programming Assignment 1: Least Sqaures"
   ]
  },
  {
   "cell_type": "markdown",
   "metadata": {},
   "source": [
    "ANLT_201_01-Linear Alegbra for Data Sci Hybrid/Blended-80942\n",
    "\n",
    "Group 4 : Jiye Lyu and Harsh Rajeshkumar Shah"
   ]
  },
  {
   "cell_type": "markdown",
   "metadata": {},
   "source": [
    "## 1.1Objective:"
   ]
  },
  {
   "cell_type": "markdown",
   "metadata": {},
   "source": [
    "We are given data with various factors describing Quarterbacks' performance. It also includes rating points. We have to \n",
    "analyse the data and create Least Square model which predicts quarterback ratings using various factors. "
   ]
  },
  {
   "cell_type": "code",
   "execution_count": 187,
   "metadata": {},
   "outputs": [],
   "source": [
    "#Loading data\n",
    "data <- read.csv('rating.csv')"
   ]
  },
  {
   "cell_type": "code",
   "execution_count": 228,
   "metadata": {},
   "outputs": [
    {
     "data": {
      "text/html": [
       "<ol class=list-inline>\n",
       "\t<li>32</li>\n",
       "\t<li>14</li>\n",
       "</ol>\n"
      ],
      "text/latex": [
       "\\begin{enumerate*}\n",
       "\\item 32\n",
       "\\item 14\n",
       "\\end{enumerate*}\n"
      ],
      "text/markdown": [
       "1. 32\n",
       "2. 14\n",
       "\n",
       "\n"
      ],
      "text/plain": [
       "[1] 32 14"
      ]
     },
     "metadata": {},
     "output_type": "display_data"
    }
   ],
   "source": [
    "#Finding dimensions\n",
    "dim(data)"
   ]
  },
  {
   "cell_type": "markdown",
   "metadata": {},
   "source": [
    "We have 32 rows and 14 columns"
   ]
  },
  {
   "cell_type": "code",
   "execution_count": 229,
   "metadata": {},
   "outputs": [
    {
     "data": {
      "text/html": [
       "<table>\n",
       "<thead><tr><th scope=col>First</th><th scope=col>Last</th><th scope=col>Team</th><th scope=col>Att</th><th scope=col>Comp</th><th scope=col>Pct.Comp</th><th scope=col>Yds</th><th scope=col>Yds.per.Att</th><th scope=col>TD</th><th scope=col>Pct.TD</th><th scope=col>Long</th><th scope=col>Int</th><th scope=col>Pct.Int</th><th scope=col>Rating.Pts</th></tr></thead>\n",
       "<tbody>\n",
       "\t<tr><td>Philip    </td><td>Rivers    </td><td>SD        </td><td>478       </td><td>312       </td><td>65.3      </td><td>4009      </td><td>8.39      </td><td>34        </td><td>7.1       </td><td>67        </td><td>11        </td><td>2.3       </td><td>105.5     </td></tr>\n",
       "\t<tr><td>Chad      </td><td>Pennington</td><td>MIA       </td><td>476       </td><td>321       </td><td>67.4      </td><td>3653      </td><td>7.67      </td><td>19        </td><td>4.0       </td><td>80        </td><td> 7        </td><td>1.5       </td><td> 97.4     </td></tr>\n",
       "\t<tr><td>Kurt      </td><td>Warner    </td><td>ARI       </td><td>598       </td><td>401       </td><td>67.1      </td><td>4583      </td><td>7.66      </td><td>30        </td><td>5.0       </td><td>79        </td><td>14        </td><td>2.3       </td><td> 96.9     </td></tr>\n",
       "\t<tr><td>Drew      </td><td>Brees     </td><td>NO        </td><td>635       </td><td>413       </td><td>65.0      </td><td>5069      </td><td>7.98      </td><td>34        </td><td>5.4       </td><td>84        </td><td>17        </td><td>2.7       </td><td> 96.2     </td></tr>\n",
       "\t<tr><td>Peyton    </td><td>Manning   </td><td>IND       </td><td>555       </td><td>371       </td><td>66.8      </td><td>4002      </td><td>7.21      </td><td>27        </td><td>4.9       </td><td>75        </td><td>12        </td><td>2.2       </td><td> 95.0     </td></tr>\n",
       "\t<tr><td>Aaron     </td><td>Rodgers   </td><td>GB        </td><td>536       </td><td>341       </td><td>63.6      </td><td>4038      </td><td>7.53      </td><td>28        </td><td>5.2       </td><td>71        </td><td>13        </td><td>2.4       </td><td> 93.8     </td></tr>\n",
       "</tbody>\n",
       "</table>\n"
      ],
      "text/latex": [
       "\\begin{tabular}{r|llllllllllllll}\n",
       " First & Last & Team & Att & Comp & Pct.Comp & Yds & Yds.per.Att & TD & Pct.TD & Long & Int & Pct.Int & Rating.Pts\\\\\n",
       "\\hline\n",
       "\t Philip     & Rivers     & SD         & 478        & 312        & 65.3       & 4009       & 8.39       & 34         & 7.1        & 67         & 11         & 2.3        & 105.5     \\\\\n",
       "\t Chad       & Pennington & MIA        & 476        & 321        & 67.4       & 3653       & 7.67       & 19         & 4.0        & 80         &  7         & 1.5        &  97.4     \\\\\n",
       "\t Kurt       & Warner     & ARI        & 598        & 401        & 67.1       & 4583       & 7.66       & 30         & 5.0        & 79         & 14         & 2.3        &  96.9     \\\\\n",
       "\t Drew       & Brees      & NO         & 635        & 413        & 65.0       & 5069       & 7.98       & 34         & 5.4        & 84         & 17         & 2.7        &  96.2     \\\\\n",
       "\t Peyton     & Manning    & IND        & 555        & 371        & 66.8       & 4002       & 7.21       & 27         & 4.9        & 75         & 12         & 2.2        &  95.0     \\\\\n",
       "\t Aaron      & Rodgers    & GB         & 536        & 341        & 63.6       & 4038       & 7.53       & 28         & 5.2        & 71         & 13         & 2.4        &  93.8     \\\\\n",
       "\\end{tabular}\n"
      ],
      "text/markdown": [
       "\n",
       "| First | Last | Team | Att | Comp | Pct.Comp | Yds | Yds.per.Att | TD | Pct.TD | Long | Int | Pct.Int | Rating.Pts |\n",
       "|---|---|---|---|---|---|---|---|---|---|---|---|---|---|\n",
       "| Philip     | Rivers     | SD         | 478        | 312        | 65.3       | 4009       | 8.39       | 34         | 7.1        | 67         | 11         | 2.3        | 105.5      |\n",
       "| Chad       | Pennington | MIA        | 476        | 321        | 67.4       | 3653       | 7.67       | 19         | 4.0        | 80         |  7         | 1.5        |  97.4      |\n",
       "| Kurt       | Warner     | ARI        | 598        | 401        | 67.1       | 4583       | 7.66       | 30         | 5.0        | 79         | 14         | 2.3        |  96.9      |\n",
       "| Drew       | Brees      | NO         | 635        | 413        | 65.0       | 5069       | 7.98       | 34         | 5.4        | 84         | 17         | 2.7        |  96.2      |\n",
       "| Peyton     | Manning    | IND        | 555        | 371        | 66.8       | 4002       | 7.21       | 27         | 4.9        | 75         | 12         | 2.2        |  95.0      |\n",
       "| Aaron      | Rodgers    | GB         | 536        | 341        | 63.6       | 4038       | 7.53       | 28         | 5.2        | 71         | 13         | 2.4        |  93.8      |\n",
       "\n"
      ],
      "text/plain": [
       "  First  Last       Team Att Comp Pct.Comp Yds  Yds.per.Att TD Pct.TD Long Int\n",
       "1 Philip Rivers     SD   478 312  65.3     4009 8.39        34 7.1    67   11 \n",
       "2 Chad   Pennington MIA  476 321  67.4     3653 7.67        19 4.0    80    7 \n",
       "3 Kurt   Warner     ARI  598 401  67.1     4583 7.66        30 5.0    79   14 \n",
       "4 Drew   Brees      NO   635 413  65.0     5069 7.98        34 5.4    84   17 \n",
       "5 Peyton Manning    IND  555 371  66.8     4002 7.21        27 4.9    75   12 \n",
       "6 Aaron  Rodgers    GB   536 341  63.6     4038 7.53        28 5.2    71   13 \n",
       "  Pct.Int Rating.Pts\n",
       "1 2.3     105.5     \n",
       "2 1.5      97.4     \n",
       "3 2.3      96.9     \n",
       "4 2.7      96.2     \n",
       "5 2.2      95.0     \n",
       "6 2.4      93.8     "
      ]
     },
     "metadata": {},
     "output_type": "display_data"
    }
   ],
   "source": [
    "#Printing first few rows\n",
    "head(data)"
   ]
  },
  {
   "cell_type": "markdown",
   "metadata": {},
   "source": [
    "As it can be seen, the table includes players' name and the data that can be used to assess the performance of players. "
   ]
  },
  {
   "cell_type": "markdown",
   "metadata": {},
   "source": [
    "## 2.Creating Least Square Models"
   ]
  },
  {
   "cell_type": "markdown",
   "metadata": {},
   "source": [
    "### 2.1Model A: Using Percentage of Completions(Pct.Comp)"
   ]
  },
  {
   "cell_type": "markdown",
   "metadata": {},
   "source": [
    "In this model, we have to predict quarterback ratings using their percentage of completions. So here (Pct.Comp, Rating.Pts) are\n",
    "points in a plane and least square model creates a line which is fitted to best approximate the points. It is done by drawing a line parallel to y-axis from the data points to the line that measures the error of each data point. The sum of all such errors should be minimum. "
   ]
  },
  {
   "cell_type": "code",
   "execution_count": 201,
   "metadata": {},
   "outputs": [
    {
     "data": {
      "text/html": [
       "<table>\n",
       "<tbody>\n",
       "\t<tr><td>1   </td><td>65.3</td></tr>\n",
       "\t<tr><td>1   </td><td>67.4</td></tr>\n",
       "\t<tr><td>1   </td><td>67.1</td></tr>\n",
       "\t<tr><td>1   </td><td>65.0</td></tr>\n",
       "\t<tr><td>1   </td><td>66.8</td></tr>\n",
       "\t<tr><td>1   </td><td>63.6</td></tr>\n",
       "</tbody>\n",
       "</table>\n"
      ],
      "text/latex": [
       "\\begin{tabular}{ll}\n",
       "\t 1    & 65.3\\\\\n",
       "\t 1    & 67.4\\\\\n",
       "\t 1    & 67.1\\\\\n",
       "\t 1    & 65.0\\\\\n",
       "\t 1    & 66.8\\\\\n",
       "\t 1    & 63.6\\\\\n",
       "\\end{tabular}\n"
      ],
      "text/markdown": [
       "\n",
       "| 1    | 65.3 |\n",
       "| 1    | 67.4 |\n",
       "| 1    | 67.1 |\n",
       "| 1    | 65.0 |\n",
       "| 1    | 66.8 |\n",
       "| 1    | 63.6 |\n",
       "\n"
      ],
      "text/plain": [
       "     [,1] [,2]\n",
       "[1,] 1    65.3\n",
       "[2,] 1    67.4\n",
       "[3,] 1    67.1\n",
       "[4,] 1    65.0\n",
       "[5,] 1    66.8\n",
       "[6,] 1    63.6"
      ]
     },
     "metadata": {},
     "output_type": "display_data"
    }
   ],
   "source": [
    "x1 <- as.matrix(cbind(rep(1, nrow(data)), data$Pct.Comp))\n",
    "head(x1)"
   ]
  },
  {
   "cell_type": "code",
   "execution_count": 200,
   "metadata": {},
   "outputs": [
    {
     "data": {
      "text/html": [
       "<table>\n",
       "<tbody>\n",
       "\t<tr><td>105.5</td></tr>\n",
       "\t<tr><td> 97.4</td></tr>\n",
       "\t<tr><td> 96.9</td></tr>\n",
       "\t<tr><td> 96.2</td></tr>\n",
       "\t<tr><td> 95.0</td></tr>\n",
       "\t<tr><td> 93.8</td></tr>\n",
       "</tbody>\n",
       "</table>\n"
      ],
      "text/latex": [
       "\\begin{tabular}{l}\n",
       "\t 105.5\\\\\n",
       "\t  97.4\\\\\n",
       "\t  96.9\\\\\n",
       "\t  96.2\\\\\n",
       "\t  95.0\\\\\n",
       "\t  93.8\\\\\n",
       "\\end{tabular}\n"
      ],
      "text/markdown": [
       "\n",
       "| 105.5 |\n",
       "|  97.4 |\n",
       "|  96.9 |\n",
       "|  96.2 |\n",
       "|  95.0 |\n",
       "|  93.8 |\n",
       "\n"
      ],
      "text/plain": [
       "     [,1] \n",
       "[1,] 105.5\n",
       "[2,]  97.4\n",
       "[3,]  96.9\n",
       "[4,]  96.2\n",
       "[5,]  95.0\n",
       "[6,]  93.8"
      ]
     },
     "metadata": {},
     "output_type": "display_data"
    }
   ],
   "source": [
    "y1 <- as.matrix(data$Rating.Pts)\n",
    "head(y1)"
   ]
  },
  {
   "cell_type": "code",
   "execution_count": 234,
   "metadata": {},
   "outputs": [
    {
     "data": {
      "text/html": [
       "<table>\n",
       "<tbody>\n",
       "\t<tr><td>-22.033064</td></tr>\n",
       "\t<tr><td>  1.745626</td></tr>\n",
       "</tbody>\n",
       "</table>\n"
      ],
      "text/latex": [
       "\\begin{tabular}{l}\n",
       "\t -22.033064\\\\\n",
       "\t   1.745626\\\\\n",
       "\\end{tabular}\n"
      ],
      "text/markdown": [
       "\n",
       "| -22.033064 |\n",
       "|   1.745626 |\n",
       "\n"
      ],
      "text/plain": [
       "     [,1]      \n",
       "[1,] -22.033064\n",
       "[2,]   1.745626"
      ]
     },
     "metadata": {},
     "output_type": "display_data"
    }
   ],
   "source": [
    "const1 = inv(t(x1) %*% x1) %*% t(x1) %*% y1\n",
    "const1"
   ]
  },
  {
   "cell_type": "markdown",
   "metadata": {},
   "source": [
    "The best line according to this model is given by the equation:\n",
    "\n",
    "y = c0 + c1(x1) \n",
    "\n",
    "where c0 = -22.033064 and c1 = 1.745626"
   ]
  },
  {
   "cell_type": "markdown",
   "metadata": {},
   "source": [
    "### 2.2Model B: Using Percentage of Completions(Pct.Comp) and Interceptions(Pct.Int)"
   ]
  },
  {
   "cell_type": "markdown",
   "metadata": {},
   "source": [
    "In this model, we have to predict quarterback ratings using their percentage of completions and percentage of interceptions. So here (Pct.Comp, Rating.Pts) and (Pct.Int, Rating.Pts) are points in a plane and least square model creates a plane which is fitted to best approximate the points. It is done by drawing a line perpendicular to plane from the data points that measures the error of each data point. The sum of all such errors should be minimum. "
   ]
  },
  {
   "cell_type": "code",
   "execution_count": 203,
   "metadata": {},
   "outputs": [
    {
     "data": {
      "text/html": [
       "<table>\n",
       "<tbody>\n",
       "\t<tr><td>1   </td><td>65.3</td><td>2.3 </td></tr>\n",
       "\t<tr><td>1   </td><td>67.4</td><td>1.5 </td></tr>\n",
       "\t<tr><td>1   </td><td>67.1</td><td>2.3 </td></tr>\n",
       "\t<tr><td>1   </td><td>65.0</td><td>2.7 </td></tr>\n",
       "\t<tr><td>1   </td><td>66.8</td><td>2.2 </td></tr>\n",
       "\t<tr><td>1   </td><td>63.6</td><td>2.4 </td></tr>\n",
       "</tbody>\n",
       "</table>\n"
      ],
      "text/latex": [
       "\\begin{tabular}{lll}\n",
       "\t 1    & 65.3 & 2.3 \\\\\n",
       "\t 1    & 67.4 & 1.5 \\\\\n",
       "\t 1    & 67.1 & 2.3 \\\\\n",
       "\t 1    & 65.0 & 2.7 \\\\\n",
       "\t 1    & 66.8 & 2.2 \\\\\n",
       "\t 1    & 63.6 & 2.4 \\\\\n",
       "\\end{tabular}\n"
      ],
      "text/markdown": [
       "\n",
       "| 1    | 65.3 | 2.3  |\n",
       "| 1    | 67.4 | 1.5  |\n",
       "| 1    | 67.1 | 2.3  |\n",
       "| 1    | 65.0 | 2.7  |\n",
       "| 1    | 66.8 | 2.2  |\n",
       "| 1    | 63.6 | 2.4  |\n",
       "\n"
      ],
      "text/plain": [
       "     [,1] [,2] [,3]\n",
       "[1,] 1    65.3 2.3 \n",
       "[2,] 1    67.4 1.5 \n",
       "[3,] 1    67.1 2.3 \n",
       "[4,] 1    65.0 2.7 \n",
       "[5,] 1    66.8 2.2 \n",
       "[6,] 1    63.6 2.4 "
      ]
     },
     "metadata": {},
     "output_type": "display_data"
    }
   ],
   "source": [
    "x2 <- as.matrix(cbind(rep(1, nrow(data)), data$Pct.Comp, data$Pct.Int ))\n",
    "head(x2)"
   ]
  },
  {
   "cell_type": "code",
   "execution_count": 204,
   "metadata": {},
   "outputs": [
    {
     "data": {
      "text/html": [
       "<table>\n",
       "<tbody>\n",
       "\t<tr><td>105.5</td></tr>\n",
       "\t<tr><td> 97.4</td></tr>\n",
       "\t<tr><td> 96.9</td></tr>\n",
       "\t<tr><td> 96.2</td></tr>\n",
       "\t<tr><td> 95.0</td></tr>\n",
       "\t<tr><td> 93.8</td></tr>\n",
       "</tbody>\n",
       "</table>\n"
      ],
      "text/latex": [
       "\\begin{tabular}{l}\n",
       "\t 105.5\\\\\n",
       "\t  97.4\\\\\n",
       "\t  96.9\\\\\n",
       "\t  96.2\\\\\n",
       "\t  95.0\\\\\n",
       "\t  93.8\\\\\n",
       "\\end{tabular}\n"
      ],
      "text/markdown": [
       "\n",
       "| 105.5 |\n",
       "|  97.4 |\n",
       "|  96.9 |\n",
       "|  96.2 |\n",
       "|  95.0 |\n",
       "|  93.8 |\n",
       "\n"
      ],
      "text/plain": [
       "     [,1] \n",
       "[1,] 105.5\n",
       "[2,]  97.4\n",
       "[3,]  96.9\n",
       "[4,]  96.2\n",
       "[5,]  95.0\n",
       "[6,]  93.8"
      ]
     },
     "metadata": {},
     "output_type": "display_data"
    }
   ],
   "source": [
    "y2 <- as.matrix(data$Rating.Pts)\n",
    "head(y2)"
   ]
  },
  {
   "cell_type": "code",
   "execution_count": 235,
   "metadata": {},
   "outputs": [
    {
     "data": {
      "text/html": [
       "<table>\n",
       "<tbody>\n",
       "\t<tr><td>-9.109043</td></tr>\n",
       "\t<tr><td> 1.662173</td></tr>\n",
       "\t<tr><td>-3.076368</td></tr>\n",
       "</tbody>\n",
       "</table>\n"
      ],
      "text/latex": [
       "\\begin{tabular}{l}\n",
       "\t -9.109043\\\\\n",
       "\t  1.662173\\\\\n",
       "\t -3.076368\\\\\n",
       "\\end{tabular}\n"
      ],
      "text/markdown": [
       "\n",
       "| -9.109043 |\n",
       "|  1.662173 |\n",
       "| -3.076368 |\n",
       "\n"
      ],
      "text/plain": [
       "     [,1]     \n",
       "[1,] -9.109043\n",
       "[2,]  1.662173\n",
       "[3,] -3.076368"
      ]
     },
     "metadata": {},
     "output_type": "display_data"
    }
   ],
   "source": [
    "const2 = inv(t(x2) %*% x2) %*% t(x2) %*% y2\n",
    "const2"
   ]
  },
  {
   "cell_type": "markdown",
   "metadata": {},
   "source": [
    "The best plane according to this model is given by the equation:\n",
    "\n",
    "y2 = c0 + c1(x1) + c2(x2) \n",
    "\n",
    "where c0 = -9.109043, c1 = 1.662173 and c2 = -3.076368"
   ]
  },
  {
   "cell_type": "markdown",
   "metadata": {},
   "source": [
    "## 3.Findng Least Square Error"
   ]
  },
  {
   "cell_type": "markdown",
   "metadata": {},
   "source": [
    "### 3.1For Model A"
   ]
  },
  {
   "cell_type": "code",
   "execution_count": 230,
   "metadata": {},
   "outputs": [
    {
     "name": "stdout",
     "output_type": "stream",
     "text": [
      "The least square error in Model A is  29.58189"
     ]
    }
   ],
   "source": [
    "error1 <- norm(y1 - x1 %*% const1, '2')\n",
    "cat(\"The least square error in Model A is \", error1)"
   ]
  },
  {
   "cell_type": "markdown",
   "metadata": {},
   "source": [
    "### 3.2For Model B"
   ]
  },
  {
   "cell_type": "code",
   "execution_count": 231,
   "metadata": {},
   "outputs": [
    {
     "name": "stdout",
     "output_type": "stream",
     "text": [
      "The least square error in Model B is  26.58117"
     ]
    }
   ],
   "source": [
    "error2 <- norm(y2 - x2 %*% const2, '2')\n",
    "cat(\"The least square error in Model B is \", error2)"
   ]
  },
  {
   "cell_type": "markdown",
   "metadata": {},
   "source": [
    "As the error gets reduced, we can say that using the percentage of interceptions additionally improves the accuracy of the model and can improve the predictions of quarterback ratings."
   ]
  },
  {
   "cell_type": "markdown",
   "metadata": {},
   "source": [
    "## 4.Prediction"
   ]
  },
  {
   "cell_type": "code",
   "execution_count": 215,
   "metadata": {},
   "outputs": [],
   "source": [
    "test_pct_comp <- 60\n",
    "test_pct_int <- 3"
   ]
  },
  {
   "cell_type": "markdown",
   "metadata": {},
   "source": [
    "### 4.1Using Model A "
   ]
  },
  {
   "cell_type": "code",
   "execution_count": 219,
   "metadata": {},
   "outputs": [
    {
     "data": {
      "text/html": [
       "<table>\n",
       "<tbody>\n",
       "\t<tr><td>82.70451</td></tr>\n",
       "</tbody>\n",
       "</table>\n"
      ],
      "text/latex": [
       "\\begin{tabular}{l}\n",
       "\t 82.70451\\\\\n",
       "\\end{tabular}\n"
      ],
      "text/markdown": [
       "\n",
       "| 82.70451 |\n",
       "\n"
      ],
      "text/plain": [
       "     [,1]    \n",
       "[1,] 82.70451"
      ]
     },
     "metadata": {},
     "output_type": "display_data"
    }
   ],
   "source": [
    "modelA_pred <- c(1, test_pct_comp) %*% const1\n",
    "modelA_pred"
   ]
  },
  {
   "cell_type": "code",
   "execution_count": 224,
   "metadata": {},
   "outputs": [
    {
     "name": "stdout",
     "output_type": "stream",
     "text": [
      "Using Model A, a quarterback with 60% completions will get ratings 82.70451"
     ]
    }
   ],
   "source": [
    "cat(\"Using Model A, a quarterback with 60% completions will get ratings\", modelA_pred)"
   ]
  },
  {
   "cell_type": "markdown",
   "metadata": {},
   "source": [
    "### 4.2Using Model B"
   ]
  },
  {
   "cell_type": "code",
   "execution_count": 221,
   "metadata": {},
   "outputs": [
    {
     "data": {
      "text/html": [
       "<table>\n",
       "<tbody>\n",
       "\t<tr><td>81.39223</td></tr>\n",
       "</tbody>\n",
       "</table>\n"
      ],
      "text/latex": [
       "\\begin{tabular}{l}\n",
       "\t 81.39223\\\\\n",
       "\\end{tabular}\n"
      ],
      "text/markdown": [
       "\n",
       "| 81.39223 |\n",
       "\n"
      ],
      "text/plain": [
       "     [,1]    \n",
       "[1,] 81.39223"
      ]
     },
     "metadata": {},
     "output_type": "display_data"
    }
   ],
   "source": [
    "modelB_pred <- c(1, test_pct_comp, test_pct_int) %*% const2\n",
    "modelB_pred"
   ]
  },
  {
   "cell_type": "code",
   "execution_count": 223,
   "metadata": {},
   "outputs": [
    {
     "name": "stdout",
     "output_type": "stream",
     "text": [
      "Using Model B, a quarterback with 60% completions and 3% interceptions will get ratings 81.39223"
     ]
    }
   ],
   "source": [
    "cat(\"Using Model B, a quarterback with 60% completions and 3% interceptions will get ratings\", modelB_pred)"
   ]
  }
 ],
 "metadata": {
  "kernelspec": {
   "display_name": "R",
   "language": "R",
   "name": "ir"
  },
  "language_info": {
   "codemirror_mode": "r",
   "file_extension": ".r",
   "mimetype": "text/x-r-source",
   "name": "R",
   "pygments_lexer": "r",
   "version": "3.6.1"
  },
  "toc": {
   "base_numbering": 1,
   "nav_menu": {},
   "number_sections": true,
   "sideBar": true,
   "skip_h1_title": false,
   "title_cell": "Table of Contents",
   "title_sidebar": "Contents",
   "toc_cell": false,
   "toc_position": {},
   "toc_section_display": true,
   "toc_window_display": false
  }
 },
 "nbformat": 4,
 "nbformat_minor": 4
}
